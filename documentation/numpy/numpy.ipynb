{
 "cells": [
  {
   "cell_type": "code",
   "execution_count": 1,
   "metadata": {},
   "outputs": [],
   "source": [
    "import numpy as np"
   ]
  },
  {
   "cell_type": "code",
   "execution_count": 2,
   "metadata": {},
   "outputs": [
    {
     "data": {
      "text/plain": [
       "array([[1, 2],\n",
       "       [3, 4]])"
      ]
     },
     "execution_count": 2,
     "metadata": {},
     "output_type": "execute_result"
    }
   ],
   "source": [
    "my_list = [[1,2], [3,4]]\n",
    "np.array(my_list)"
   ]
  },
  {
   "cell_type": "code",
   "execution_count": 3,
   "metadata": {},
   "outputs": [
    {
     "data": {
      "text/plain": [
       "array([[1., 2.],\n",
       "       [3., 4.]], dtype=float16)"
      ]
     },
     "execution_count": 3,
     "metadata": {},
     "output_type": "execute_result"
    }
   ],
   "source": [
    "np.array(my_list, dtype=np.float16)"
   ]
  },
  {
   "cell_type": "code",
   "execution_count": 4,
   "metadata": {},
   "outputs": [
    {
     "data": {
      "text/plain": [
       "array([0., 0., 0., 0., 0., 0., 0., 0., 0., 0.])"
      ]
     },
     "execution_count": 4,
     "metadata": {},
     "output_type": "execute_result"
    }
   ],
   "source": [
    "np.zeros(10)"
   ]
  },
  {
   "cell_type": "code",
   "execution_count": 5,
   "metadata": {},
   "outputs": [
    {
     "data": {
      "text/plain": [
       "array([[0., 0., 0., 0.],\n",
       "       [0., 0., 0., 0.],\n",
       "       [0., 0., 0., 0.]])"
      ]
     },
     "execution_count": 5,
     "metadata": {},
     "output_type": "execute_result"
    }
   ],
   "source": [
    "np.zeros((3,4))"
   ]
  },
  {
   "cell_type": "code",
   "execution_count": 6,
   "metadata": {},
   "outputs": [
    {
     "data": {
      "text/plain": [
       "array([[1., 0., 0., 0., 0.],\n",
       "       [0., 1., 0., 0., 0.],\n",
       "       [0., 0., 1., 0., 0.],\n",
       "       [0., 0., 0., 1., 0.],\n",
       "       [0., 0., 0., 0., 1.]])"
      ]
     },
     "execution_count": 6,
     "metadata": {},
     "output_type": "execute_result"
    }
   ],
   "source": [
    "#identity matrix\n",
    "np.eye(5)"
   ]
  },
  {
   "cell_type": "code",
   "execution_count": 7,
   "metadata": {},
   "outputs": [
    {
     "data": {
      "text/plain": [
       "array([0, 1, 2, 3, 4])"
      ]
     },
     "execution_count": 7,
     "metadata": {},
     "output_type": "execute_result"
    }
   ],
   "source": [
    "#Create an equally spaced Numpy Array with a specific step\n",
    "np.arange(5)"
   ]
  },
  {
   "cell_type": "code",
   "execution_count": 8,
   "metadata": {},
   "outputs": [
    {
     "data": {
      "text/plain": [
       "array([ 3,  4,  5,  6,  7,  8,  9, 10, 11, 12, 13, 14, 15, 16, 17, 18, 19,\n",
       "       20, 21, 22, 23, 24, 25, 26, 27, 28, 29, 30, 31, 32, 33, 34, 35, 36,\n",
       "       37, 38, 39])"
      ]
     },
     "execution_count": 8,
     "metadata": {},
     "output_type": "execute_result"
    }
   ],
   "source": [
    "np.arange(3,40)"
   ]
  },
  {
   "cell_type": "code",
   "execution_count": 9,
   "metadata": {},
   "outputs": [
    {
     "data": {
      "text/plain": [
       "array([ 3,  9, 15, 21, 27, 33, 39])"
      ]
     },
     "execution_count": 9,
     "metadata": {},
     "output_type": "execute_result"
    }
   ],
   "source": [
    "np.arange(3,40,6)"
   ]
  },
  {
   "cell_type": "code",
   "execution_count": 10,
   "metadata": {},
   "outputs": [
    {
     "data": {
      "text/plain": [
       "array([ 5.        ,  6.66666667,  8.33333333, 10.        , 11.66666667,\n",
       "       13.33333333, 15.        , 16.66666667, 18.33333333, 20.        ])"
      ]
     },
     "execution_count": 10,
     "metadata": {},
     "output_type": "execute_result"
    }
   ],
   "source": [
    "#Create an equally spaced Numpy Array with a specific array size\n",
    "np.linspace(start=5, stop=20, num=10)"
   ]
  },
  {
   "cell_type": "code",
   "execution_count": 11,
   "metadata": {},
   "outputs": [
    {
     "data": {
      "text/plain": [
       "array([ 2.,  4.,  6.,  8., 10.])"
      ]
     },
     "execution_count": 11,
     "metadata": {},
     "output_type": "execute_result"
    }
   ],
   "source": [
    "np.linspace(2,10,5)"
   ]
  },
  {
   "cell_type": "code",
   "execution_count": 12,
   "metadata": {},
   "outputs": [
    {
     "data": {
      "text/plain": [
       "array([14, 20, 15, 24, 17, 20, 23,  8, 24, 23])"
      ]
     },
     "execution_count": 12,
     "metadata": {},
     "output_type": "execute_result"
    }
   ],
   "source": [
    "#Generate a random numpy array\n",
    "np.random.randint(low=5, high=25, size=10)"
   ]
  },
  {
   "cell_type": "code",
   "execution_count": 13,
   "metadata": {},
   "outputs": [
    {
     "data": {
      "text/plain": [
       "array([17, 11])"
      ]
     },
     "execution_count": 13,
     "metadata": {},
     "output_type": "execute_result"
    }
   ],
   "source": [
    "np.random.randint(10,20,2)"
   ]
  },
  {
   "cell_type": "code",
   "execution_count": 14,
   "metadata": {},
   "outputs": [],
   "source": [
    "## 2 NumPy Array Manipulation Methods"
   ]
  },
  {
   "cell_type": "code",
   "execution_count": 15,
   "metadata": {},
   "outputs": [
    {
     "name": "stdout",
     "output_type": "stream",
     "text": [
      "shape of array: (2, 5)\n",
      "shape of array (2, 5)\n"
     ]
    }
   ],
   "source": [
    "#Shape of the NumPy Array\n",
    "a = np.ones((2,5))\n",
    "print(\"shape of array:\", np.shape(a))\n",
    "print(\"shape of array\", a.shape)"
   ]
  },
  {
   "cell_type": "code",
   "execution_count": 16,
   "metadata": {},
   "outputs": [
    {
     "data": {
      "text/plain": [
       "array([[0, 1],\n",
       "       [2, 3],\n",
       "       [4, 5],\n",
       "       [6, 7],\n",
       "       [8, 9]])"
      ]
     },
     "execution_count": 16,
     "metadata": {},
     "output_type": "execute_result"
    }
   ],
   "source": [
    "#Reshape the NumPy Array\n",
    "a = np.arange(10).reshape(10,)\n",
    "a.reshape(5,2)"
   ]
  },
  {
   "cell_type": "code",
   "execution_count": 17,
   "metadata": {},
   "outputs": [
    {
     "data": {
      "text/plain": [
       "array([[0, 1, 2, 3, 4],\n",
       "       [5, 6, 7, 8, 9]])"
      ]
     },
     "execution_count": 17,
     "metadata": {},
     "output_type": "execute_result"
    }
   ],
   "source": [
    "#Transpose the NumPy Array\n",
    "np.arange(10).reshape(2,5).transpose().T"
   ]
  },
  {
   "cell_type": "code",
   "execution_count": 18,
   "metadata": {},
   "outputs": [
    {
     "data": {
      "text/plain": [
       "array([[1, 2, 5],\n",
       "       [2, 4, 8]])"
      ]
     },
     "execution_count": 18,
     "metadata": {},
     "output_type": "execute_result"
    }
   ],
   "source": [
    "#Concatenate multiple NumPy arrays to form one NumPy Array\n",
    "a = np.array([[1,2], [2,4]])\n",
    "b = np.array([[5,8]])\n",
    "np.concatenate((a,b.T), axis=1)"
   ]
  },
  {
   "cell_type": "code",
   "execution_count": 19,
   "metadata": {},
   "outputs": [
    {
     "data": {
      "text/plain": [
       "masked_array(data=[0, --, 2],\n",
       "             mask=[False,  True, False],\n",
       "       fill_value=999999)"
      ]
     },
     "execution_count": 19,
     "metadata": {},
     "output_type": "execute_result"
    }
   ],
   "source": [
    "#Masked Array\n",
    "a = np.ma.arange(3)\n",
    "a[1] = np.ma.masked\n",
    "a"
   ]
  },
  {
   "cell_type": "code",
   "execution_count": 20,
   "metadata": {},
   "outputs": [
    {
     "data": {
      "text/plain": [
       "array([[[-0.07583484,  0.80154441, -1.70320864, -0.06714538],\n",
       "        [ 1.27592054, -0.24675408,  1.76579485, -0.74736535],\n",
       "        [-0.15315054,  0.02104215, -1.73558327,  0.40127252],\n",
       "        [-1.29358174,  1.54443641,  0.50930785,  0.93513483],\n",
       "        [-0.17772741, -1.13509831, -0.06766208,  0.36329318],\n",
       "        [ 0.17351197, -1.67460792, -1.03756474, -1.08841911],\n",
       "        [-0.27861253, -0.0817309 ,  1.78512496,  0.53718989],\n",
       "        [-0.64101176,  0.68286141,  0.24659929, -0.03392345],\n",
       "        [-0.70285417,  0.1217731 , -1.37749861,  1.27137213],\n",
       "        [ 1.04074269,  1.49339026,  0.81495181,  0.01923235]],\n",
       "\n",
       "       [[ 1.26606104, -0.27985141, -0.63832478, -0.82269995],\n",
       "        [ 1.52915923, -0.37755322, -0.47657325,  0.73179515],\n",
       "        [-0.31153187, -0.63785027,  0.88152515,  0.12023444],\n",
       "        [ 0.48584899,  0.98025664, -0.83513825,  0.88558014],\n",
       "        [-0.49966316, -0.24006039,  2.05797921, -0.43874642],\n",
       "        [ 0.22666417,  0.04316207, -1.71585673, -0.04559733],\n",
       "        [-0.25014369, -1.48741437,  0.11761628, -0.27616368],\n",
       "        [ 1.779     , -0.45373087, -0.24192321,  0.21125763],\n",
       "        [-0.82143834,  0.58393676,  1.46257989,  1.81889529],\n",
       "        [-1.08098749, -1.78997257,  0.89567783,  0.94772653]],\n",
       "\n",
       "       [[ 0.76113231,  0.01755585, -0.67338813,  0.52995589],\n",
       "        [-2.85504911,  2.36864254,  1.47717846, -1.25530636],\n",
       "        [ 0.07315383, -0.80726534,  1.49050127, -0.05448362],\n",
       "        [ 1.5517223 ,  0.38830522,  0.38525963, -0.82580845],\n",
       "        [ 1.39720472, -1.94643035, -0.03410367, -0.15033652],\n",
       "        [ 0.29666844, -0.39465526,  0.82524272,  0.66547749],\n",
       "        [ 2.07317553,  0.68006365, -1.58690624,  1.00649665],\n",
       "        [ 1.04129053,  1.58203107, -0.24826298, -0.38624129],\n",
       "        [-0.9911882 , -0.28247101,  0.26410558,  0.52914922],\n",
       "        [ 0.20171364,  0.39704664,  0.5343298 ,  1.6150137 ]]])"
      ]
     },
     "execution_count": 20,
     "metadata": {},
     "output_type": "execute_result"
    }
   ],
   "source": [
    "arrays = [np.random.randn(3,4) for _ in range(10)]\n",
    "np.stack(arrays, axis=1)"
   ]
  },
  {
   "cell_type": "code",
   "execution_count": null,
   "metadata": {},
   "outputs": [],
   "source": []
  }
 ],
 "metadata": {
  "kernelspec": {
   "display_name": "Python 3.9.12 ('base')",
   "language": "python",
   "name": "python3"
  },
  "language_info": {
   "codemirror_mode": {
    "name": "ipython",
    "version": 3
   },
   "file_extension": ".py",
   "mimetype": "text/x-python",
   "name": "python",
   "nbconvert_exporter": "python",
   "pygments_lexer": "ipython3",
   "version": "3.9.12"
  },
  "orig_nbformat": 4,
  "vscode": {
   "interpreter": {
    "hash": "b11c60c7f015efd0558dbbdc481384a1591da661b11b889df0e740e076d05c39"
   }
  }
 },
 "nbformat": 4,
 "nbformat_minor": 2
}
